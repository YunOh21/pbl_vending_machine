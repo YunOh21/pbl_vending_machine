{
 "cells": [
  {
   "cell_type": "code",
   "execution_count": 3,
   "id": "8d5ce2d7",
   "metadata": {},
   "outputs": [
    {
     "name": "stdout",
     "output_type": "stream",
     "text": [
      "/home/erica_2291/pb_proj\n"
     ]
    }
   ],
   "source": [
    "import os\n",
    "print(os.getcwd())"
   ]
  },
  {
   "cell_type": "code",
   "execution_count": 1,
   "id": "0e0c8e22",
   "metadata": {},
   "outputs": [],
   "source": [
    "# 0: 데이터 7:2:1로 나누기 (훈련 train / 검증 val / test 테스트)\n",
    "\n",
    "import os, shutil, random\n",
    "\n",
    "def split_data_by_ratio(source_dir, class_name, output_root=\"UCF_Crime_Split\",\n",
    "                        split_ratio=(0.7, 0.2, 0.1)):\n",
    "    files = [f for f in os.listdir(source_dir) if f.lower().endswith(('.mp4'))]\n",
    "    random.shuffle(files)\n",
    "\n",
    "    n_total = len(files)\n",
    "    n_train = int(n_total * split_ratio[0])\n",
    "    n_val = int(n_total * split_ratio[1])\n",
    "    n_test = n_total - n_train - n_val\n",
    "\n",
    "    splits = ['train', 'val', 'test']\n",
    "    counts = [n_train, n_val, n_test]\n",
    "    start = 0\n",
    "\n",
    "    for split, count in zip(splits, counts):\n",
    "        target_dir = os.path.join(output_root, split, class_name)\n",
    "        os.makedirs(target_dir, exist_ok=True)\n",
    "        for file in files[start:start+count]:\n",
    "            shutil.copy2(os.path.join(source_dir, file), os.path.join(target_dir, file))\n",
    "        start += count\n"
   ]
  },
  {
   "cell_type": "code",
   "execution_count": 4,
   "id": "c39760ba",
   "metadata": {},
   "outputs": [],
   "source": [
    "split_data_by_ratio(\n",
    "    source_dir=\"../2_unzipped/Anomaly-Videos-Part-2/Fighting\",\n",
    "    class_name=\"fighting\",\n",
    "    output_root=\"UCF_Crime_Split\"\n",
    ")\n",
    "\n",
    "split_data_by_ratio(\n",
    "    source_dir=\"../4_unzipped/Anomaly-Videos-Part-4/Vandalism\",\n",
    "    class_name=\"vandalism\",\n",
    "    output_root=\"UCF_Crime_Split\"\n",
    ")\n",
    "\n",
    "split_data_by_ratio(\n",
    "    source_dir=\"../normal/Testing_Normal_Videos_Anomaly\",\n",
    "    class_name=\"normal\",\n",
    "    output_root=\"UCF_Crime_Split\"\n",
    ")"
   ]
  },
  {
   "cell_type": "code",
   "execution_count": null,
   "id": "3675d20a",
   "metadata": {},
   "outputs": [],
   "source": [
    "# 1: mediapipe로 포즈 학습\n",
    "\n",
    "import cv2\n",
    "import mediapipe as mp\n",
    "import numpy as np\n",
    "from tqdm import tqdm\n",
    "\n",
    "def extract_pose_features(video_path):\n",
    "    mp_pose = mp.solutions.pose\n",
    "    pose = mp_pose.Pose(static_image_mode=False)\n",
    "    cap = cv2.VideoCapture(video_path)\n",
    "\n",
    "    features = []\n",
    "\n",
    "    while cap.isOpened():\n",
    "        ret, frame = cap.read()\n",
    "        if not ret:\n",
    "            break\n",
    "        img_rgb = cv2.cvtColor(frame, cv2.COLOR_BGR2RGB)\n",
    "        results = pose.process(img_rgb)\n",
    "\n",
    "        if results.pose_landmarks:\n",
    "            landmark_vector = []\n",
    "            for lm in results.pose_landmarks.landmark:\n",
    "                landmark_vector.extend([lm.x, lm.y, lm.z, lm.visibility])\n",
    "            features.append(landmark_vector)\n",
    "        else:\n",
    "            features.append([0.0] * (33 * 4))  # placeholder if no detection\n",
    "\n",
    "    cap.release()\n",
    "    return np.array(features)"
   ]
  },
  {
   "cell_type": "code",
   "execution_count": null,
   "id": "532ea2db",
   "metadata": {},
   "outputs": [],
   "source": [
    "# 2: sklearn으로 관절 위치 분류(SVM)\n",
    "\n",
    "from sklearn.svm import SVC\n",
    "from sklearn.model_selection import train_test_split\n",
    "from sklearn.preprocessing import StandardScaler\n",
    "from sklearn.metrics import classification_report\n",
    "\n",
    "# 예시: 클래스별 벡터 추출\n",
    "X_fighting = extract_pose_features(\"fighting.mp4\")\n",
    "X_vandalism = extract_pose_features(\"vandalism.mp4\")\n",
    "y_fighting = ['fighting'] * len(X_fighting)\n",
    "y_vandalism = ['vandalism'] * len(X_vandalism)\n",
    "\n",
    "# 데이터 결합\n",
    "X = np.vstack([X_fighting, X_vandalism])\n",
    "y = y_fighting + y_vandalism\n",
    "\n",
    "# 정규화 + 학습\n",
    "scaler = StandardScaler()\n",
    "X_scaled = scaler.fit_transform(X)\n",
    "\n",
    "X_train, X_test, y_train, y_test = train_test_split(X_scaled, y, test_size=0.2, random_state=42)\n",
    "\n",
    "clf = SVC(kernel='linear')\n",
    "clf.fit(X_train, y_train)\n",
    "\n",
    "print(classification_report(y_test, clf.predict(X_test)))"
   ]
  },
  {
   "cell_type": "code",
   "execution_count": null,
   "id": "a53e28c0",
   "metadata": {},
   "outputs": [],
   "source": [
    "# 3: 학습한 모델로 이상행동 감지 확인\n",
    "\n",
    "X_new = extract_pose_features(\"demo.mp4\")\n",
    "X_new_scaled = scaler.transform(X_new)\n",
    "y_pred = clf.predict(X_new_scaled)\n",
    "\n",
    "from collections import Counter\n",
    "print(\"🎯 영상 예측:\", Counter(y_pred).most_common(1)[0][0])"
   ]
  }
 ],
 "metadata": {
  "kernelspec": {
   "display_name": "pb_ai_env",
   "language": "python",
   "name": "python3"
  },
  "language_info": {
   "codemirror_mode": {
    "name": "ipython",
    "version": 3
   },
   "file_extension": ".py",
   "mimetype": "text/x-python",
   "name": "python",
   "nbconvert_exporter": "python",
   "pygments_lexer": "ipython3",
   "version": "3.10.16"
  }
 },
 "nbformat": 4,
 "nbformat_minor": 5
}
