{
 "cells": [
  {
   "cell_type": "code",
   "execution_count": 5,
   "id": "dbf0ef97",
   "metadata": {},
   "outputs": [
    {
     "name": "stderr",
     "output_type": "stream",
     "text": [
      "I0000 00:00:1748595017.337174  588901 gl_context_egl.cc:85] Successfully initialized EGL. Major : 1 Minor: 5\n",
      "I0000 00:00:1748595017.373059  966363 gl_context.cc:369] GL version: 3.2 (OpenGL ES 3.2 NVIDIA 550.120), renderer: NVIDIA GeForce RTX 2080 Ti/PCIe/SSE2\n",
      "W0000 00:00:1748595017.472627  966315 inference_feedback_manager.cc:114] Feedback manager requires a model with a single signature inference. Disabling support for feedback tensors.\n",
      "W0000 00:00:1748595017.529801  966339 inference_feedback_manager.cc:114] Feedback manager requires a model with a single signature inference. Disabling support for feedback tensors.\n"
     ]
    }
   ],
   "source": [
    "import cv2\n",
    "import mediapipe as mp\n",
    "import numpy as np\n",
    "import joblib\n",
    "from IPython.display import Video\n",
    "\n",
    "# 1. 모델 로드\n",
    "model = joblib.load(\"output/rf_model.pkl\")\n",
    "scaler = joblib.load(\"output/scaler.pkl\")\n",
    "\n",
    "# 2. MediaPipe 초기화\n",
    "mp_pose = mp.solutions.pose\n",
    "pose = mp_pose.Pose()\n",
    "mp_drawing = mp.solutions.drawing_utils\n",
    "\n",
    "# 3. 동영상 파일 열기\n",
    "cap = cv2.VideoCapture(\"UCF_Crime_Split/test/fighting/Fighting011_x264.mp4\")\n",
    "\n",
    "# 4. 저장할 비디오 설정\n",
    "fourcc = cv2.VideoWriter_fourcc(*'mp4v')\n",
    "out = cv2.VideoWriter('output/result.mp4', fourcc, 30.0, (int(cap.get(3)), int(cap.get(4))))\n",
    "\n",
    "while cap.isOpened():\n",
    "    ret, frame = cap.read()\n",
    "    if not ret:\n",
    "        break\n",
    "\n",
    "    img_rgb = cv2.cvtColor(frame, cv2.COLOR_BGR2RGB)\n",
    "    results = pose.process(img_rgb)\n",
    "\n",
    "    if results.pose_landmarks:\n",
    "        keypoints = []\n",
    "        for lm in results.pose_landmarks.landmark:\n",
    "            keypoints.extend([lm.x, lm.y, lm.z, lm.visibility])\n",
    "\n",
    "        pose_coords = np.array(keypoints).reshape(1, -1)\n",
    "        pose_coords = scaler.transform(pose_coords)\n",
    "        pred = model.predict(pose_coords)\n",
    "        \n",
    "        if pred != \"normal\":\n",
    "            h, w = frame.shape[:2]\n",
    "            font_scale = min(w, h) / 600\n",
    "            thickness = max(1, int(font_scale * 2))\n",
    "            cv2.putText(\n",
    "                frame,\n",
    "                f'Prediction: {pred}',\n",
    "                (int(w*0.05), int(h*0.1)),\n",
    "                cv2.FONT_HERSHEY_SIMPLEX,\n",
    "                font_scale,\n",
    "                (0, 0, 255),\n",
    "                thickness\n",
    "            )\n",
    "            mp_drawing.draw_landmarks(frame, results.pose_landmarks, mp_pose.POSE_CONNECTIONS)\n",
    "\n",
    "    out.write(frame)\n",
    "\n",
    "cap.release()\n",
    "out.release()"
   ]
  }
 ],
 "metadata": {
  "kernelspec": {
   "display_name": "pb_ai_env",
   "language": "python",
   "name": "python3"
  },
  "language_info": {
   "codemirror_mode": {
    "name": "ipython",
    "version": 3
   },
   "file_extension": ".py",
   "mimetype": "text/x-python",
   "name": "python",
   "nbconvert_exporter": "python",
   "pygments_lexer": "ipython3",
   "version": "3.10.16"
  }
 },
 "nbformat": 4,
 "nbformat_minor": 5
}
